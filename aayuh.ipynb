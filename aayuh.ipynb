{
 "cells": [
  {
   "cell_type": "code",
   "execution_count": 1,
   "id": "2e7568fd-2917-4aab-874a-36450e2b0883",
   "metadata": {},
   "outputs": [],
   "source": [
    "from pyspark.sql import SparkSession\n"
   ]
  },
  {
   "cell_type": "code",
   "execution_count": 2,
   "id": "cbb36c67-73f9-48b4-acf7-db45610f8245",
   "metadata": {},
   "outputs": [],
   "source": [
    "spark = (SparkSession\n",
    "         .builder\n",
    "         .appName(\"Task1\")\n",
    "          .getOrCreate())"
   ]
  },
  {
   "cell_type": "code",
   "execution_count": 3,
   "id": "bb1f4223-f3f6-483c-8422-f07ec01e9a3d",
   "metadata": {},
   "outputs": [
    {
     "data": {
      "text/html": [
       "\n",
       "            <div>\n",
       "                <p><b>SparkSession - in-memory</b></p>\n",
       "                \n",
       "        <div>\n",
       "            <p><b>SparkContext</b></p>\n",
       "\n",
       "            <p><a href=\"http://ac89a8a3db10:4041\">Spark UI</a></p>\n",
       "\n",
       "            <dl>\n",
       "              <dt>Version</dt>\n",
       "                <dd><code>v3.3.0</code></dd>\n",
       "              <dt>Master</dt>\n",
       "                <dd><code>local[*]</code></dd>\n",
       "              <dt>AppName</dt>\n",
       "                <dd><code>Task1</code></dd>\n",
       "            </dl>\n",
       "        </div>\n",
       "        \n",
       "            </div>\n",
       "        "
      ],
      "text/plain": [
       "<pyspark.sql.session.SparkSession at 0x7f1888434c70>"
      ]
     },
     "execution_count": 3,
     "metadata": {},
     "output_type": "execute_result"
    }
   ],
   "source": [
    "spark"
   ]
  },
  {
   "cell_type": "code",
   "execution_count": 4,
   "id": "82c56ab9-b81d-4efb-bd0e-f39bdc2d3386",
   "metadata": {},
   "outputs": [],
   "source": [
    "df =spark.read.option(\"header\",True).json(\"MOCK_DATA.json\")"
   ]
  },
  {
   "cell_type": "code",
   "execution_count": 5,
   "id": "82d063cf-c487-42ac-9db3-ee7cf35caa9c",
   "metadata": {},
   "outputs": [
    {
     "name": "stdout",
     "output_type": "stream",
     "text": [
      "+--------------------+-------------+-----------------+-------------+--------------------+---------------+---------------+---------------+-----------------------+------------+\n",
      "|     _corrupt_record|billing_class|billing_code_type|billing_codee|         description|expiration_date|negotiated_rate|negotiated_type|negotiation_arrangement|service_code|\n",
      "+--------------------+-------------+-----------------+-------------+--------------------+---------------+---------------+---------------+-----------------------+------------+\n",
      "|[{\"billing_class\"...|         null|             null|         null|                null|           null|           null|           null|                   null|        null|\n",
      "|                null|          NVA|             null|   54868-6381|Occup of pk-up/va...|     2023/10/27|          $1.89|             CO|             49288-0290|          ID|\n",
      "|                null|          JEQ|             SNJK|    55315-329|Posterior subluxa...|     2023/03/22|          $6.07|             BR|              10544-105|          CN|\n",
      "|                null|          SSO|             SNLO|    13537-015|Scarlet fever, un...|     2023/12/10|          $4.78|             BR|              53489-536|          CN|\n",
      "|                null|          CKR|             null|    42508-138|Unsp injury of un...|     2023/04/19|          $4.35|             US|              59572-425|          CL|\n",
      "|                null|          CXH|             CYHC|    52533-120|Other disorders o...|     2023/03/12|          $1.35|             CA|              41250-871|          ID|\n",
      "|                null|          KTT|             EFKT|    36800-952|Cloacal extrophy ...|     2023/05/29|          $7.52|             FI|              59886-410|          CN|\n",
      "|                null|         null|             null|    11344-999|Hypertrophy of bo...|     2023/04/05|          $2.94|             JP|              76509-151|          CN|\n",
      "|                null|          DAL|             null|   36987-1207|Oth osteoporosis ...|     2023/03/07|          $4.07|           null|              11410-020|          FR|\n",
      "|                null|          GDA|             null|    76138-106|Disp fx of head o...|     2023/12/29|          $9.05|             CF|              65954-538|          BF|\n",
      "|                null|          AEX|             KAEX|    53329-809|Unsp fx upr end r...|     2023/04/15|          $3.61|             US|              50991-216|          JP|\n",
      "|                null|         null|             SPHI|    0496-0760|Unspecified injur...|     2023/07/25|          $4.79|             PE|              49884-641|          PL|\n",
      "|                null|          DUQ|             CAM3|    43063-345|Path fracture, un...|     2023/03/19|          $8.60|             CA|              21695-522|          UA|\n",
      "|                null|          YVV|             CYVV|    0245-0213|Crushing injury o...|     2023/12/06|          $3.39|             CA|              30142-960|          RU|\n",
      "|                null|          PCA|             PAOC|    52125-568|Intentional colli...|     2023/07/21|          $3.09|             US|             53808-0685|          CN|\n",
      "|                null|          GRV|             null|   57913-2869|Nondisp oblique f...|     2023/04/30|          $1.83|             RU|             49288-0861|          CA|\n",
      "|                null|         null|             MWCR|    64117-987|Osteomyelitis, un...|     2023/08/19|          $1.20|             KY|              52773-240|          FR|\n",
      "|                null|          TJA|             SLTJ|   61958-0901|Nondisp fx of lat...|     2023/12/28|          $6.32|             BO|              49999-120|          CN|\n",
      "|                null|          EML|             LSME|    11673-977|Staphylococcal ar...|     2023/03/16|          $5.68|             CH|             36987-1711|          ID|\n",
      "|                null|          PLF|             FTTP|    0029-1527|Unspecified physe...|     2023/02/17|          $3.72|             TD|              51346-173|          MA|\n",
      "+--------------------+-------------+-----------------+-------------+--------------------+---------------+---------------+---------------+-----------------------+------------+\n",
      "only showing top 20 rows\n",
      "\n"
     ]
    }
   ],
   "source": [
    "df.show()"
   ]
  },
  {
   "cell_type": "code",
   "execution_count": 6,
   "id": "5a6e2489-e0b9-4eab-9d97-2a83797c6853",
   "metadata": {},
   "outputs": [],
   "source": [
    "dropped_df = df.drop(\"description\",\"expiration_date\")"
   ]
  },
  {
   "cell_type": "code",
   "execution_count": 7,
   "id": "99d8725d-52b9-495f-a081-66778045bcb3",
   "metadata": {},
   "outputs": [
    {
     "name": "stdout",
     "output_type": "stream",
     "text": [
      "+--------------------+-------------+-----------------+-------------+---------------+---------------+-----------------------+------------+\n",
      "|     _corrupt_record|billing_class|billing_code_type|billing_codee|negotiated_rate|negotiated_type|negotiation_arrangement|service_code|\n",
      "+--------------------+-------------+-----------------+-------------+---------------+---------------+-----------------------+------------+\n",
      "|[{\"billing_class\"...|         null|             null|         null|           null|           null|                   null|        null|\n",
      "|                null|          NVA|             null|   54868-6381|          $1.89|             CO|             49288-0290|          ID|\n",
      "|                null|          JEQ|             SNJK|    55315-329|          $6.07|             BR|              10544-105|          CN|\n",
      "|                null|          SSO|             SNLO|    13537-015|          $4.78|             BR|              53489-536|          CN|\n",
      "|                null|          CKR|             null|    42508-138|          $4.35|             US|              59572-425|          CL|\n",
      "|                null|          CXH|             CYHC|    52533-120|          $1.35|             CA|              41250-871|          ID|\n",
      "|                null|          KTT|             EFKT|    36800-952|          $7.52|             FI|              59886-410|          CN|\n",
      "|                null|         null|             null|    11344-999|          $2.94|             JP|              76509-151|          CN|\n",
      "|                null|          DAL|             null|   36987-1207|          $4.07|           null|              11410-020|          FR|\n",
      "|                null|          GDA|             null|    76138-106|          $9.05|             CF|              65954-538|          BF|\n",
      "|                null|          AEX|             KAEX|    53329-809|          $3.61|             US|              50991-216|          JP|\n",
      "|                null|         null|             SPHI|    0496-0760|          $4.79|             PE|              49884-641|          PL|\n",
      "|                null|          DUQ|             CAM3|    43063-345|          $8.60|             CA|              21695-522|          UA|\n",
      "|                null|          YVV|             CYVV|    0245-0213|          $3.39|             CA|              30142-960|          RU|\n",
      "|                null|          PCA|             PAOC|    52125-568|          $3.09|             US|             53808-0685|          CN|\n",
      "|                null|          GRV|             null|   57913-2869|          $1.83|             RU|             49288-0861|          CA|\n",
      "|                null|         null|             MWCR|    64117-987|          $1.20|             KY|              52773-240|          FR|\n",
      "|                null|          TJA|             SLTJ|   61958-0901|          $6.32|             BO|              49999-120|          CN|\n",
      "|                null|          EML|             LSME|    11673-977|          $5.68|             CH|             36987-1711|          ID|\n",
      "|                null|          PLF|             FTTP|    0029-1527|          $3.72|             TD|              51346-173|          MA|\n",
      "+--------------------+-------------+-----------------+-------------+---------------+---------------+-----------------------+------------+\n",
      "only showing top 20 rows\n",
      "\n"
     ]
    }
   ],
   "source": [
    "dropped_df.show()"
   ]
  },
  {
   "cell_type": "markdown",
   "id": "659d72b5-3e97-4523-82b5-4835b3ae8d9d",
   "metadata": {},
   "source": [
    "## Removing hypen from bill"
   ]
  },
  {
   "cell_type": "code",
   "execution_count": 8,
   "id": "4169d67a-e609-48aa-a568-f73e7d632b31",
   "metadata": {},
   "outputs": [],
   "source": [
    "from pyspark.sql.functions import regexp_replace,col,expr,monotonically_increasing_id,hash,lit\n",
    "hypenrem_df=dropped_df.withColumn(\"billing_codee\",regexp_replace(col(\"billing_codee\"),\"-\",\"\"))\\\n",
    "                     .withColumn(\"negotiation_arrangement\",regexp_replace(col(\"negotiation_arrangement\"),\"-\",\"\"))\\\n",
    "                      .withColumn('negotiated_rate', expr(\"replace(negotiated_rate,'$','')\"))\n",
    "\n",
    "\n",
    "# hyphenrem_df = dropped_df.withColumn(\"billing_codee\", translate(col(\"billing_codee\"), \"-\", \"\"))\\\n",
    "#                          .withColumn(\"negotiation_arrangement\", translate(col(\"negotiation_arrangement\"), \"-\", \"\"))\\\n",
    "#                          .withColumn(\"negotiated_rate\", translate(col(\"negotiated_rate\"), \"$\", \"\"))  # No escape needed\n",
    "\n",
    "# hypenrem_df = dropped_df.withColumn('billing_codee', expr(\"replace(billing_codee,'-','')\"))\\\n",
    "#         .withColumn('negotiation_arrangement', expr(\"replace(negotiation_arrangement,'-','')\"))\\\n",
    "#         .withColumn('negotiated_rate', expr(\"replace(negotiated_rate,'$','')\"))\n",
    "                   "
   ]
  },
  {
   "cell_type": "code",
   "execution_count": 9,
   "id": "c4522ddf-aa1f-494e-9a8b-c405f31cc341",
   "metadata": {},
   "outputs": [
    {
     "name": "stdout",
     "output_type": "stream",
     "text": [
      "+--------------------+-------------+-----------------+-------------+---------------+---------------+-----------------------+------------+\n",
      "|     _corrupt_record|billing_class|billing_code_type|billing_codee|negotiated_rate|negotiated_type|negotiation_arrangement|service_code|\n",
      "+--------------------+-------------+-----------------+-------------+---------------+---------------+-----------------------+------------+\n",
      "|[{\"billing_class\"...|         null|             null|         null|           null|           null|                   null|        null|\n",
      "|                null|          NVA|             null|    548686381|           1.89|             CO|              492880290|          ID|\n",
      "|                null|          JEQ|             SNJK|     55315329|           6.07|             BR|               10544105|          CN|\n",
      "|                null|          SSO|             SNLO|     13537015|           4.78|             BR|               53489536|          CN|\n",
      "|                null|          CKR|             null|     42508138|           4.35|             US|               59572425|          CL|\n",
      "|                null|          CXH|             CYHC|     52533120|           1.35|             CA|               41250871|          ID|\n",
      "|                null|          KTT|             EFKT|     36800952|           7.52|             FI|               59886410|          CN|\n",
      "|                null|         null|             null|     11344999|           2.94|             JP|               76509151|          CN|\n",
      "|                null|          DAL|             null|    369871207|           4.07|           null|               11410020|          FR|\n",
      "|                null|          GDA|             null|     76138106|           9.05|             CF|               65954538|          BF|\n",
      "|                null|          AEX|             KAEX|     53329809|           3.61|             US|               50991216|          JP|\n",
      "|                null|         null|             SPHI|     04960760|           4.79|             PE|               49884641|          PL|\n",
      "|                null|          DUQ|             CAM3|     43063345|           8.60|             CA|               21695522|          UA|\n",
      "|                null|          YVV|             CYVV|     02450213|           3.39|             CA|               30142960|          RU|\n",
      "|                null|          PCA|             PAOC|     52125568|           3.09|             US|              538080685|          CN|\n",
      "|                null|          GRV|             null|    579132869|           1.83|             RU|              492880861|          CA|\n",
      "|                null|         null|             MWCR|     64117987|           1.20|             KY|               52773240|          FR|\n",
      "|                null|          TJA|             SLTJ|    619580901|           6.32|             BO|               49999120|          CN|\n",
      "|                null|          EML|             LSME|     11673977|           5.68|             CH|              369871711|          ID|\n",
      "|                null|          PLF|             FTTP|     00291527|           3.72|             TD|               51346173|          MA|\n",
      "+--------------------+-------------+-----------------+-------------+---------------+---------------+-----------------------+------------+\n",
      "only showing top 20 rows\n",
      "\n"
     ]
    }
   ],
   "source": [
    "hypenrem_df.show()"
   ]
  },
  {
   "cell_type": "code",
   "execution_count": 10,
   "id": "bad8f1a5-8326-45c4-82a7-b8b964fd4a92",
   "metadata": {},
   "outputs": [
    {
     "name": "stdout",
     "output_type": "stream",
     "text": [
      "+--------------------+-------------+-----------------+-------------+---------------+---------------+-----------------------+------------+\n",
      "|     _corrupt_record|billing_class|billing_code_type|billing_codee|negotiated_rate|negotiated_type|negotiation_arrangement|service_code|\n",
      "+--------------------+-------------+-----------------+-------------+---------------+---------------+-----------------------+------------+\n",
      "|[{\"billing_class\"...|         null|             null|         null|           null|           null|                   null|          42|\n",
      "|                null|          NVA|             null|    548686381|           1.89|             CO|              492880290|  -214147340|\n",
      "|                null|          JEQ|             SNJK|     55315329|           6.07|             BR|               10544105|   446854828|\n",
      "|                null|          SSO|             SNLO|     13537015|           4.78|             BR|               53489536|   446854828|\n",
      "|                null|          CKR|             null|     42508138|           4.35|             US|               59572425|   519803259|\n",
      "|                null|          CXH|             CYHC|     52533120|           1.35|             CA|               41250871|  -214147340|\n",
      "|                null|          KTT|             EFKT|     36800952|           7.52|             FI|               59886410|   446854828|\n",
      "|                null|         null|             null|     11344999|           2.94|             JP|               76509151|   446854828|\n",
      "|                null|          DAL|             null|    369871207|           4.07|           null|               11410020|  1062621904|\n",
      "|                null|          GDA|             null|     76138106|           9.05|             CF|               65954538|  1817792724|\n",
      "|                null|          AEX|             KAEX|     53329809|           3.61|             US|               50991216|   175481947|\n",
      "|                null|         null|             SPHI|     04960760|           4.79|             PE|               49884641| -1524333386|\n",
      "|                null|          DUQ|             CAM3|     43063345|           8.60|             CA|               21695522|     2450805|\n",
      "|                null|          YVV|             CYVV|     02450213|           3.39|             CA|               30142960|  -172246165|\n",
      "|                null|          PCA|             PAOC|     52125568|           3.09|             US|              538080685|   446854828|\n",
      "|                null|          GRV|             null|    579132869|           1.83|             RU|              492880861|  1886535265|\n",
      "|                null|         null|             MWCR|     64117987|           1.20|             KY|               52773240|  1062621904|\n",
      "|                null|          TJA|             SLTJ|    619580901|           6.32|             BO|               49999120|   446854828|\n",
      "|                null|          EML|             LSME|     11673977|           5.68|             CH|              369871711|  -214147340|\n",
      "|                null|          PLF|             FTTP|     00291527|           3.72|             TD|               51346173|  1210295967|\n",
      "+--------------------+-------------+-----------------+-------------+---------------+---------------+-----------------------+------------+\n",
      "only showing top 20 rows\n",
      "\n"
     ]
    }
   ],
   "source": [
    "hashing_df= hypenrem_df.withColumn(\"service_code\",hash(\"service_code\"))\n",
    "hashing_df.show()\n",
    "\n"
   ]
  },
  {
   "cell_type": "markdown",
   "id": "31ed28bf-b6b0-45f3-9407-d7d610b34ed3",
   "metadata": {},
   "source": [
    "## Remove the row if 'billing_code' is null\n"
   ]
  },
  {
   "cell_type": "code",
   "execution_count": 11,
   "id": "d81dd504-db2c-40a4-b1d4-6e4d8757786e",
   "metadata": {},
   "outputs": [
    {
     "name": "stdout",
     "output_type": "stream",
     "text": [
      "+---------------+-------------+-----------------+-------------+---------------+---------------+-----------------------+------------+\n",
      "|_corrupt_record|billing_class|billing_code_type|billing_codee|negotiated_rate|negotiated_type|negotiation_arrangement|service_code|\n",
      "+---------------+-------------+-----------------+-------------+---------------+---------------+-----------------------+------------+\n",
      "|           null|          NVA|             null|    548686381|           1.89|             CO|              492880290|  -214147340|\n",
      "|           null|          JEQ|             SNJK|     55315329|           6.07|             BR|               10544105|   446854828|\n",
      "|           null|          SSO|             SNLO|     13537015|           4.78|             BR|               53489536|   446854828|\n",
      "|           null|          CKR|             null|     42508138|           4.35|             US|               59572425|   519803259|\n",
      "|           null|          CXH|             CYHC|     52533120|           1.35|             CA|               41250871|  -214147340|\n",
      "|           null|          KTT|             EFKT|     36800952|           7.52|             FI|               59886410|   446854828|\n",
      "|           null|         null|             null|     11344999|           2.94|             JP|               76509151|   446854828|\n",
      "|           null|          DAL|             null|    369871207|           4.07|           null|               11410020|  1062621904|\n",
      "|           null|          GDA|             null|     76138106|           9.05|             CF|               65954538|  1817792724|\n",
      "|           null|          AEX|             KAEX|     53329809|           3.61|             US|               50991216|   175481947|\n",
      "|           null|         null|             SPHI|     04960760|           4.79|             PE|               49884641| -1524333386|\n",
      "|           null|          DUQ|             CAM3|     43063345|           8.60|             CA|               21695522|     2450805|\n",
      "|           null|          YVV|             CYVV|     02450213|           3.39|             CA|               30142960|  -172246165|\n",
      "|           null|          PCA|             PAOC|     52125568|           3.09|             US|              538080685|   446854828|\n",
      "|           null|          GRV|             null|    579132869|           1.83|             RU|              492880861|  1886535265|\n",
      "|           null|         null|             MWCR|     64117987|           1.20|             KY|               52773240|  1062621904|\n",
      "|           null|          TJA|             SLTJ|    619580901|           6.32|             BO|               49999120|   446854828|\n",
      "|           null|          EML|             LSME|     11673977|           5.68|             CH|              369871711|  -214147340|\n",
      "|           null|          PLF|             FTTP|     00291527|           3.72|             TD|               51346173|  1210295967|\n",
      "|           null|          ZCL|             MMZC|    400460057|           8.01|             MX|              538080830|  -172246165|\n",
      "+---------------+-------------+-----------------+-------------+---------------+---------------+-----------------------+------------+\n",
      "only showing top 20 rows\n",
      "\n"
     ]
    }
   ],
   "source": [
    "rmvnull_df = hashing_df.dropna(subset=[\"billing_codee\"])\n",
    "rmvnull_df.show()"
   ]
  },
  {
   "cell_type": "markdown",
   "id": "6667213c-1534-424d-b382-cc420ea702a1",
   "metadata": {},
   "source": [
    "## Replace all the null values in billing_class to ‘I’\n"
   ]
  },
  {
   "cell_type": "code",
   "execution_count": 12,
   "id": "d56491da-b732-4b8f-ac39-0e00e73a57a4",
   "metadata": {},
   "outputs": [
    {
     "name": "stdout",
     "output_type": "stream",
     "text": [
      "+---------------+-------------+-----------------+-------------+---------------+---------------+-----------------------+------------+\n",
      "|_corrupt_record|billing_class|billing_code_type|billing_codee|negotiated_rate|negotiated_type|negotiation_arrangement|service_code|\n",
      "+---------------+-------------+-----------------+-------------+---------------+---------------+-----------------------+------------+\n",
      "|           null|          NVA|             null|    548686381|           1.89|             CO|              492880290|  -214147340|\n",
      "|           null|          JEQ|             SNJK|     55315329|           6.07|             BR|               10544105|   446854828|\n",
      "|           null|          SSO|             SNLO|     13537015|           4.78|             BR|               53489536|   446854828|\n",
      "|           null|          CKR|             null|     42508138|           4.35|             US|               59572425|   519803259|\n",
      "|           null|          CXH|             CYHC|     52533120|           1.35|             CA|               41250871|  -214147340|\n",
      "|           null|          KTT|             EFKT|     36800952|           7.52|             FI|               59886410|   446854828|\n",
      "|           null|            I|             null|     11344999|           2.94|             JP|               76509151|   446854828|\n",
      "|           null|          DAL|             null|    369871207|           4.07|           null|               11410020|  1062621904|\n",
      "|           null|          GDA|             null|     76138106|           9.05|             CF|               65954538|  1817792724|\n",
      "|           null|          AEX|             KAEX|     53329809|           3.61|             US|               50991216|   175481947|\n",
      "|           null|            I|             SPHI|     04960760|           4.79|             PE|               49884641| -1524333386|\n",
      "|           null|          DUQ|             CAM3|     43063345|           8.60|             CA|               21695522|     2450805|\n",
      "|           null|          YVV|             CYVV|     02450213|           3.39|             CA|               30142960|  -172246165|\n",
      "|           null|          PCA|             PAOC|     52125568|           3.09|             US|              538080685|   446854828|\n",
      "|           null|          GRV|             null|    579132869|           1.83|             RU|              492880861|  1886535265|\n",
      "|           null|            I|             MWCR|     64117987|           1.20|             KY|               52773240|  1062621904|\n",
      "|           null|          TJA|             SLTJ|    619580901|           6.32|             BO|               49999120|   446854828|\n",
      "|           null|          EML|             LSME|     11673977|           5.68|             CH|              369871711|  -214147340|\n",
      "|           null|          PLF|             FTTP|     00291527|           3.72|             TD|               51346173|  1210295967|\n",
      "|           null|          ZCL|             MMZC|    400460057|           8.01|             MX|              538080830|  -172246165|\n",
      "+---------------+-------------+-----------------+-------------+---------------+---------------+-----------------------+------------+\n",
      "only showing top 20 rows\n",
      "\n"
     ]
    }
   ],
   "source": [
    "repna_df=rmvnull_df.fillna({\"billing_class\":'I'})\n",
    "repna_df.show()"
   ]
  },
  {
   "cell_type": "markdown",
   "id": "5ea52c95-597f-4fd9-b30a-9d6a4b6e6026",
   "metadata": {},
   "source": [
    "### Rename all the column as given. billing_class>>bCls  , billing_code>>bC, billing_code_type>> bCT , negotiated_rate>> negR, negotiated_type>> negT, negotiation_arrangements>> negA, service_code>> poSH"
   ]
  },
  {
   "cell_type": "code",
   "execution_count": 13,
   "id": "c1ec0116-b3df-4642-820f-070a83b9fc0b",
   "metadata": {},
   "outputs": [
    {
     "name": "stdout",
     "output_type": "stream",
     "text": [
      "+---------------+----+----+---------+----+----+---------+-----------+\n",
      "|_corrupt_record|bCls| bCT|       bC|negR|negT|     negA|       poSH|\n",
      "+---------------+----+----+---------+----+----+---------+-----------+\n",
      "|           null| NVA|null|548686381|1.89|  CO|492880290| -214147340|\n",
      "|           null| JEQ|SNJK| 55315329|6.07|  BR| 10544105|  446854828|\n",
      "|           null| SSO|SNLO| 13537015|4.78|  BR| 53489536|  446854828|\n",
      "|           null| CKR|null| 42508138|4.35|  US| 59572425|  519803259|\n",
      "|           null| CXH|CYHC| 52533120|1.35|  CA| 41250871| -214147340|\n",
      "|           null| KTT|EFKT| 36800952|7.52|  FI| 59886410|  446854828|\n",
      "|           null|   I|null| 11344999|2.94|  JP| 76509151|  446854828|\n",
      "|           null| DAL|null|369871207|4.07|null| 11410020| 1062621904|\n",
      "|           null| GDA|null| 76138106|9.05|  CF| 65954538| 1817792724|\n",
      "|           null| AEX|KAEX| 53329809|3.61|  US| 50991216|  175481947|\n",
      "|           null|   I|SPHI| 04960760|4.79|  PE| 49884641|-1524333386|\n",
      "|           null| DUQ|CAM3| 43063345|8.60|  CA| 21695522|    2450805|\n",
      "|           null| YVV|CYVV| 02450213|3.39|  CA| 30142960| -172246165|\n",
      "|           null| PCA|PAOC| 52125568|3.09|  US|538080685|  446854828|\n",
      "|           null| GRV|null|579132869|1.83|  RU|492880861| 1886535265|\n",
      "|           null|   I|MWCR| 64117987|1.20|  KY| 52773240| 1062621904|\n",
      "|           null| TJA|SLTJ|619580901|6.32|  BO| 49999120|  446854828|\n",
      "|           null| EML|LSME| 11673977|5.68|  CH|369871711| -214147340|\n",
      "|           null| PLF|FTTP| 00291527|3.72|  TD| 51346173| 1210295967|\n",
      "|           null| ZCL|MMZC|400460057|8.01|  MX|538080830| -172246165|\n",
      "+---------------+----+----+---------+----+----+---------+-----------+\n",
      "only showing top 20 rows\n",
      "\n"
     ]
    }
   ],
   "source": [
    "renamecol_df =  repna_df.withColumnRenamed('billing_class','bCls')\\\n",
    "                        .withColumnRenamed('billing_codee','bC')\\\n",
    "                        .withColumnRenamed('billing_code_type','bCT')\\\n",
    "                        .withColumnRenamed('negotiated_rate','negR')\\\n",
    "                        .withColumnRenamed('negotiated_type','negT')\\\n",
    "                        .withColumnRenamed('negotiation_arrangement','negA')\\\n",
    "                        .withColumnRenamed('service_code','poSH')\n",
    "\n",
    "renamecol_df.show()"
   ]
  },
  {
   "cell_type": "markdown",
   "id": "abb7ec9a-0a5a-4a27-affa-9343690f9943",
   "metadata": {},
   "source": [
    "### Add a whole new column named billing_code_modifier and rename it to 'mdH'"
   ]
  },
  {
   "cell_type": "code",
   "execution_count": 17,
   "id": "91618fe5-5e25-43b4-8487-5ea536ee15e0",
   "metadata": {},
   "outputs": [
    {
     "name": "stdout",
     "output_type": "stream",
     "text": [
      "+---------------+----+----+---------+----+----+---------+-----------+----------------------+\n",
      "|_corrupt_record|bCls| bCT|       bC|negR|negT|     negA|       poSH|billing_code_modifier |\n",
      "+---------------+----+----+---------+----+----+---------+-----------+----------------------+\n",
      "|           null| NVA|null|548686381|1.89|  CO|492880290| -214147340|               1426636|\n",
      "|           null| JEQ|SNJK| 55315329|6.07|  BR| 10544105|  446854828|               1426636|\n",
      "|           null| SSO|SNLO| 13537015|4.78|  BR| 53489536|  446854828|               1426636|\n",
      "|           null| CKR|null| 42508138|4.35|  US| 59572425|  519803259|               1426636|\n",
      "|           null| CXH|CYHC| 52533120|1.35|  CA| 41250871| -214147340|               1426636|\n",
      "|           null| KTT|EFKT| 36800952|7.52|  FI| 59886410|  446854828|               1426636|\n",
      "|           null|   I|null| 11344999|2.94|  JP| 76509151|  446854828|               1426636|\n",
      "|           null| DAL|null|369871207|4.07|null| 11410020| 1062621904|               1426636|\n",
      "|           null| GDA|null| 76138106|9.05|  CF| 65954538| 1817792724|               1426636|\n",
      "|           null| AEX|KAEX| 53329809|3.61|  US| 50991216|  175481947|               1426636|\n",
      "|           null|   I|SPHI| 04960760|4.79|  PE| 49884641|-1524333386|               1426636|\n",
      "|           null| DUQ|CAM3| 43063345|8.60|  CA| 21695522|    2450805|               1426636|\n",
      "|           null| YVV|CYVV| 02450213|3.39|  CA| 30142960| -172246165|               1426636|\n",
      "|           null| PCA|PAOC| 52125568|3.09|  US|538080685|  446854828|               1426636|\n",
      "|           null| GRV|null|579132869|1.83|  RU|492880861| 1886535265|               1426636|\n",
      "|           null|   I|MWCR| 64117987|1.20|  KY| 52773240| 1062621904|               1426636|\n",
      "|           null| TJA|SLTJ|619580901|6.32|  BO| 49999120|  446854828|               1426636|\n",
      "|           null| EML|LSME| 11673977|5.68|  CH|369871711| -214147340|               1426636|\n",
      "|           null| PLF|FTTP| 00291527|3.72|  TD| 51346173| 1210295967|               1426636|\n",
      "|           null| ZCL|MMZC|400460057|8.01|  MX|538080830| -172246165|               1426636|\n",
      "+---------------+----+----+---------+----+----+---------+-----------+----------------------+\n",
      "only showing top 20 rows\n",
      "\n"
     ]
    }
   ],
   "source": [
    "add_column = renamecol_df.withColumn(\"billing_code_modifier \",lit(1426636 ))\n",
    "add_column.show()"
   ]
  },
  {
   "cell_type": "code",
   "execution_count": 18,
   "id": "2c0a0df6-b9d7-4616-9f01-20f1fe21f947",
   "metadata": {},
   "outputs": [
    {
     "name": "stdout",
     "output_type": "stream",
     "text": [
      "+---------------+----+----+---------+----+----+---------+-----------+-------+\n",
      "|_corrupt_record|bCls| bCT|       bC|negR|negT|     negA|       poSH|    mdH|\n",
      "+---------------+----+----+---------+----+----+---------+-----------+-------+\n",
      "|           null| NVA|null|548686381|1.89|  CO|492880290| -214147340|1426636|\n",
      "|           null| JEQ|SNJK| 55315329|6.07|  BR| 10544105|  446854828|1426636|\n",
      "|           null| SSO|SNLO| 13537015|4.78|  BR| 53489536|  446854828|1426636|\n",
      "|           null| CKR|null| 42508138|4.35|  US| 59572425|  519803259|1426636|\n",
      "|           null| CXH|CYHC| 52533120|1.35|  CA| 41250871| -214147340|1426636|\n",
      "|           null| KTT|EFKT| 36800952|7.52|  FI| 59886410|  446854828|1426636|\n",
      "|           null|   I|null| 11344999|2.94|  JP| 76509151|  446854828|1426636|\n",
      "|           null| DAL|null|369871207|4.07|null| 11410020| 1062621904|1426636|\n",
      "|           null| GDA|null| 76138106|9.05|  CF| 65954538| 1817792724|1426636|\n",
      "|           null| AEX|KAEX| 53329809|3.61|  US| 50991216|  175481947|1426636|\n",
      "|           null|   I|SPHI| 04960760|4.79|  PE| 49884641|-1524333386|1426636|\n",
      "|           null| DUQ|CAM3| 43063345|8.60|  CA| 21695522|    2450805|1426636|\n",
      "|           null| YVV|CYVV| 02450213|3.39|  CA| 30142960| -172246165|1426636|\n",
      "|           null| PCA|PAOC| 52125568|3.09|  US|538080685|  446854828|1426636|\n",
      "|           null| GRV|null|579132869|1.83|  RU|492880861| 1886535265|1426636|\n",
      "|           null|   I|MWCR| 64117987|1.20|  KY| 52773240| 1062621904|1426636|\n",
      "|           null| TJA|SLTJ|619580901|6.32|  BO| 49999120|  446854828|1426636|\n",
      "|           null| EML|LSME| 11673977|5.68|  CH|369871711| -214147340|1426636|\n",
      "|           null| PLF|FTTP| 00291527|3.72|  TD| 51346173| 1210295967|1426636|\n",
      "|           null| ZCL|MMZC|400460057|8.01|  MX|538080830| -172246165|1426636|\n",
      "+---------------+----+----+---------+----+----+---------+-----------+-------+\n",
      "only showing top 20 rows\n",
      "\n"
     ]
    }
   ],
   "source": [
    "renamecol1_df=add_column.withColumnRenamed('billing_code_modifier ','mdH')\n",
    "renamecol1_df.show()"
   ]
  },
  {
   "cell_type": "code",
   "execution_count": 19,
   "id": "c6e57bd3-35c7-4e20-9f6a-90029e6d1932",
   "metadata": {},
   "outputs": [
    {
     "name": "stdout",
     "output_type": "stream",
     "text": [
      "+---------------+----+----+---------+----+----+---------+-----------+---------+\n",
      "|_corrupt_record|bCls| bCT|       bC|negR|negT|     negA|       poSH|      mdH|\n",
      "+---------------+----+----+---------+----+----+---------+-----------+---------+\n",
      "|           null| NVA|null|548686381|1.89|  CO|492880290| -214147340|678617635|\n",
      "|           null| JEQ|SNJK| 55315329|6.07|  BR| 10544105|  446854828|678617635|\n",
      "|           null| SSO|SNLO| 13537015|4.78|  BR| 53489536|  446854828|678617635|\n",
      "|           null| CKR|null| 42508138|4.35|  US| 59572425|  519803259|678617635|\n",
      "|           null| CXH|CYHC| 52533120|1.35|  CA| 41250871| -214147340|678617635|\n",
      "|           null| KTT|EFKT| 36800952|7.52|  FI| 59886410|  446854828|678617635|\n",
      "|           null|   I|null| 11344999|2.94|  JP| 76509151|  446854828|678617635|\n",
      "|           null| DAL|null|369871207|4.07|null| 11410020| 1062621904|678617635|\n",
      "|           null| GDA|null| 76138106|9.05|  CF| 65954538| 1817792724|678617635|\n",
      "|           null| AEX|KAEX| 53329809|3.61|  US| 50991216|  175481947|678617635|\n",
      "|           null|   I|SPHI| 04960760|4.79|  PE| 49884641|-1524333386|678617635|\n",
      "|           null| DUQ|CAM3| 43063345|8.60|  CA| 21695522|    2450805|678617635|\n",
      "|           null| YVV|CYVV| 02450213|3.39|  CA| 30142960| -172246165|678617635|\n",
      "|           null| PCA|PAOC| 52125568|3.09|  US|538080685|  446854828|678617635|\n",
      "|           null| GRV|null|579132869|1.83|  RU|492880861| 1886535265|678617635|\n",
      "|           null|   I|MWCR| 64117987|1.20|  KY| 52773240| 1062621904|678617635|\n",
      "|           null| TJA|SLTJ|619580901|6.32|  BO| 49999120|  446854828|678617635|\n",
      "|           null| EML|LSME| 11673977|5.68|  CH|369871711| -214147340|678617635|\n",
      "|           null| PLF|FTTP| 00291527|3.72|  TD| 51346173| 1210295967|678617635|\n",
      "|           null| ZCL|MMZC|400460057|8.01|  MX|538080830| -172246165|678617635|\n",
      "+---------------+----+----+---------+----+----+---------+-----------+---------+\n",
      "only showing top 20 rows\n",
      "\n"
     ]
    }
   ],
   "source": [
    "hashing1_df = renamecol1_df.withColumn('mdH',hash('mdH'))\n",
    "hashing1_df.show()"
   ]
  },
  {
   "cell_type": "code",
   "execution_count": null,
   "id": "d44dc175-1ea5-43bd-9b96-c31f3745ea9f",
   "metadata": {},
   "outputs": [],
   "source": []
  }
 ],
 "metadata": {
  "kernelspec": {
   "display_name": "Python 3 (ipykernel)",
   "language": "python",
   "name": "python3"
  },
  "language_info": {
   "codemirror_mode": {
    "name": "ipython",
    "version": 3
   },
   "file_extension": ".py",
   "mimetype": "text/x-python",
   "name": "python",
   "nbconvert_exporter": "python",
   "pygments_lexer": "ipython3",
   "version": "3.10.16"
  }
 },
 "nbformat": 4,
 "nbformat_minor": 5
}
